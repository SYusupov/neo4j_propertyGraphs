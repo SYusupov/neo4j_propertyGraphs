{
 "cells": [
  {
   "cell_type": "code",
   "execution_count": 1,
   "metadata": {},
   "outputs": [],
   "source": [
    "import pandas as pd"
   ]
  },
  {
   "cell_type": "code",
   "execution_count": 2,
   "metadata": {},
   "outputs": [],
   "source": [
    "files_path = \"/home/sayyor/Desktop/neo4j-community-4.2.19/lab-property-graphs\""
   ]
  },
  {
   "cell_type": "code",
   "execution_count": 4,
   "metadata": {},
   "outputs": [],
   "source": [
    "df = pd.read_csv(files_path+\"/main_data.csv\", delimiter=\",\")"
   ]
  },
  {
   "cell_type": "code",
   "execution_count": 43,
   "metadata": {},
   "outputs": [],
   "source": [
    "# corresponding label for Authors\n",
    "df['AuthorCorresp'] = \"\"\n",
    "\n",
    "for idx, _ in df.iterrows():\n",
    "    authors = df.loc[idx,'Authors'].split(\",\")\n",
    "    corresp = ['False']* len(authors)\n",
    "    corresp[0] = 'True'\n",
    "    corresp = \", \".join(corresp)\n",
    "    df.loc[idx,'AuthorCorresp'] = corresp"
   ]
  }
 ],
 "metadata": {
  "kernelspec": {
   "display_name": "race-charts-3Ukbqb5o",
   "language": "python",
   "name": "python3"
  },
  "language_info": {
   "codemirror_mode": {
    "name": "ipython",
    "version": 3
   },
   "file_extension": ".py",
   "mimetype": "text/x-python",
   "name": "python",
   "nbconvert_exporter": "python",
   "pygments_lexer": "ipython3",
   "version": "3.8.10"
  },
  "orig_nbformat": 4,
  "vscode": {
   "interpreter": {
    "hash": "5088c1fd66889e515c1fc9f10310dd1dafb56e948a5069cc046f6ad2ef1ac8a3"
   }
  }
 },
 "nbformat": 4,
 "nbformat_minor": 2
}
