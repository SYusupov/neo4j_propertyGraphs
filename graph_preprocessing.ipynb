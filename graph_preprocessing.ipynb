{
 "cells": [
  {
   "cell_type": "code",
   "execution_count": 1,
   "metadata": {},
   "outputs": [],
   "source": [
    "import pandas as pd"
   ]
  },
  {
   "cell_type": "code",
   "execution_count": 2,
   "metadata": {},
   "outputs": [],
   "source": [
    "files_path = \"/home/sayyor/Desktop/neo4j-community-4.2.19/lab-property-graphs\""
   ]
  },
  {
   "cell_type": "code",
   "execution_count": 3,
   "metadata": {},
   "outputs": [],
   "source": [
    "df = pd.read_csv(files_path+\"/main_data.csv\", delimiter=\",\")"
   ]
  },
  {
   "cell_type": "code",
   "execution_count": 5,
   "metadata": {},
   "outputs": [],
   "source": [
    "# Removing spaces in df columns\n",
    "for col in df.columns:\n",
    "    df.rename(columns={col:col.replace(\" \", \"\")}, inplace=True)"
   ]
  },
  {
   "cell_type": "code",
   "execution_count": 8,
   "metadata": {},
   "outputs": [
    {
     "data": {
      "text/plain": [
       "Index(['Authors', 'AuthorsID', 'Title', 'Year', 'SourceTitle', 'Volume',\n",
       "       'Issue', 'Art.No.', 'Pagestart', 'Pageend', 'Pagecount', 'CitedBy',\n",
       "       'DOI', 'Link', 'Affiliations', 'AuthorsWithAffiliations', 'Abstract',\n",
       "       'AuthorKeywords', 'IndexKeywords', 'DocumentType', 'PublicationStage',\n",
       "       'AccessType', 'Source', 'EID'],\n",
       "      dtype='object')"
      ]
     },
     "execution_count": 8,
     "metadata": {},
     "output_type": "execute_result"
    }
   ],
   "source": [
    "df.columns"
   ]
  },
  {
   "cell_type": "code",
   "execution_count": 7,
   "metadata": {},
   "outputs": [],
   "source": [
    "df.rename(columns={\"Author(s)ID\":\"AuthorsID\", \"Sourcetitle\":\"SourceTitle\", \"Citedby\":\"CitedBy\", \"Authorswithaffiliations\":\"AuthorsWithAffiliations\"}, inplace=True)"
   ]
  },
  {
   "cell_type": "code",
   "execution_count": 18,
   "metadata": {},
   "outputs": [
    {
     "data": {
      "text/plain": [
       "Index(['Authors', 'Author(s) ID', 'Title', 'Year', 'Source title', 'Volume',\n",
       "       'Issue', 'Art. No.', 'Page start', 'Page end', 'Page count', 'Cited by',\n",
       "       'DOI', 'Link', 'Affiliations', 'Authors with affiliations', 'Abstract',\n",
       "       'Author Keywords', 'Index Keywords', 'Document Type',\n",
       "       'Publication Stage', 'Access Type', 'Source', 'EID'],\n",
       "      dtype='object')"
      ]
     },
     "execution_count": 18,
     "metadata": {},
     "output_type": "execute_result"
    }
   ],
   "source": [
    "df.columns"
   ]
  },
  {
   "cell_type": "code",
   "execution_count": 5,
   "metadata": {},
   "outputs": [],
   "source": [
    "# # corresponding label for Authors\n",
    "# df['AuthorCorresp'] = \"\"\n",
    "\n",
    "# for idx, _ in df.iterrows():\n",
    "#     authors = df.loc[idx,'Authors'].split(\",\")\n",
    "#     corresp = ['False']* len(authors)\n",
    "#     corresp[0] = 'True'\n",
    "#     corresp = \", \".join(corresp)\n",
    "#     df.loc[idx,'AuthorCorresp'] = corresp\n",
    "\n",
    "# df = df.drop(['AuthorCorresp'], axis=1)"
   ]
  },
  {
   "cell_type": "code",
   "execution_count": 9,
   "metadata": {},
   "outputs": [],
   "source": [
    "df.to_csv(files_path+\"/main_data1.csv\", index=False)"
   ]
  }
 ],
 "metadata": {
  "kernelspec": {
   "display_name": "race-charts-3Ukbqb5o",
   "language": "python",
   "name": "python3"
  },
  "language_info": {
   "codemirror_mode": {
    "name": "ipython",
    "version": 3
   },
   "file_extension": ".py",
   "mimetype": "text/x-python",
   "name": "python",
   "nbconvert_exporter": "python",
   "pygments_lexer": "ipython3",
   "version": "3.8.10"
  },
  "orig_nbformat": 4,
  "vscode": {
   "interpreter": {
    "hash": "5088c1fd66889e515c1fc9f10310dd1dafb56e948a5069cc046f6ad2ef1ac8a3"
   }
  }
 },
 "nbformat": 4,
 "nbformat_minor": 2
}
