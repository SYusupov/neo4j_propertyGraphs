{
 "cells": [
  {
   "cell_type": "code",
   "execution_count": 26,
   "metadata": {},
   "outputs": [],
   "source": [
    "import pandas as pd\n",
    "import random"
   ]
  },
  {
   "cell_type": "code",
   "execution_count": 2,
   "metadata": {},
   "outputs": [],
   "source": [
    "files_path = \"/home/sayyor/Desktop/neo4j-community-4.2.19/lab-property-graphs\""
   ]
  },
  {
   "cell_type": "code",
   "execution_count": 10,
   "metadata": {},
   "outputs": [],
   "source": [
    "df = pd.read_csv(files_path+\"/main_data.csv\", delimiter=\",\")"
   ]
  },
  {
   "attachments": {},
   "cell_type": "markdown",
   "metadata": {},
   "source": [
    "#### Formatting Column Names"
   ]
  },
  {
   "cell_type": "code",
   "execution_count": 5,
   "metadata": {},
   "outputs": [],
   "source": [
    "# Removing spaces in df columns\n",
    "for col in df.columns:\n",
    "    df.rename(columns={col:col.replace(\" \", \"\")}, inplace=True)"
   ]
  },
  {
   "cell_type": "code",
   "execution_count": 7,
   "metadata": {},
   "outputs": [],
   "source": [
    "df.rename(columns={\"Author(s)ID\":\"AuthorsID\", \"Sourcetitle\":\"SourceTitle\", \"Citedby\":\"CitedBy\", \"Authorswithaffiliations\":\"AuthorsWithAffiliations\"}, inplace=True)"
   ]
  },
  {
   "attachments": {},
   "cell_type": "markdown",
   "metadata": {},
   "source": [
    "#### Creating Reviewers Column"
   ]
  },
  {
   "cell_type": "code",
   "execution_count": 19,
   "metadata": {},
   "outputs": [],
   "source": [
    "# making a set of all authors\n",
    "all_authors = set()\n",
    "\n",
    "for idx, _ in df.iterrows():\n",
    "    authors = df.loc[idx,'Authors'].split(\", \")\n",
    "    all_authors.update(authors)"
   ]
  },
  {
   "cell_type": "code",
   "execution_count": 33,
   "metadata": {},
   "outputs": [],
   "source": [
    "# picking 3 reviewers for each paper randomly\n",
    "df['Reviewers'] = \"\"\n",
    "for idx, _ in df.iterrows():\n",
    "    authors = df.loc[idx,'Authors'].split(\", \")\n",
    "    remain_auth = [auth for auth in all_authors if auth not in authors]\n",
    "    df.loc[idx, 'Reviewers'] = \", \".join(random.sample(remain_auth, 3))"
   ]
  },
  {
   "cell_type": "code",
   "execution_count": 35,
   "metadata": {},
   "outputs": [],
   "source": [
    "df.to_csv(files_path+\"/main_data.csv\", index=False)"
   ]
  }
 ],
 "metadata": {
  "kernelspec": {
   "display_name": "race-charts-3Ukbqb5o",
   "language": "python",
   "name": "python3"
  },
  "language_info": {
   "codemirror_mode": {
    "name": "ipython",
    "version": 3
   },
   "file_extension": ".py",
   "mimetype": "text/x-python",
   "name": "python",
   "nbconvert_exporter": "python",
   "pygments_lexer": "ipython3",
   "version": "3.8.10"
  },
  "orig_nbformat": 4,
  "vscode": {
   "interpreter": {
    "hash": "5088c1fd66889e515c1fc9f10310dd1dafb56e948a5069cc046f6ad2ef1ac8a3"
   }
  }
 },
 "nbformat": 4,
 "nbformat_minor": 2
}
